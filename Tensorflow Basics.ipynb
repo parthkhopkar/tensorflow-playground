{
 "cells": [
  {
   "cell_type": "code",
   "execution_count": 1,
   "metadata": {},
   "outputs": [],
   "source": [
    "import tensorflow as tf"
   ]
  },
  {
   "cell_type": "code",
   "execution_count": 2,
   "metadata": {},
   "outputs": [
    {
     "name": "stdout",
     "output_type": "stream",
     "text": [
      "tf.Tensor(11, shape=(), dtype=int32)\n",
      "tf.Tensor([4 6], shape=(2,), dtype=int32)\n",
      "tf.Tensor(49, shape=(), dtype=int32)\n",
      "tf.Tensor(10, shape=(), dtype=int32)\n"
     ]
    }
   ],
   "source": [
    "# A tensor is a multidimensional array\n",
    "# Tensorflow provides a rich library of operations\n",
    "\n",
    "print(tf.add(5,6))\n",
    "print(tf.add([1,2],[3,4]))\n",
    "print(tf.square(7))\n",
    "print(tf.reduce_sum([1,2,3,4]))"
   ]
  },
  {
   "cell_type": "code",
   "execution_count": 3,
   "metadata": {},
   "outputs": [
    {
     "name": "stdout",
     "output_type": "stream",
     "text": [
      "tf.Tensor([[2 3]], shape=(1, 2), dtype=int32)\n",
      "(1, 2)\n",
      "<dtype: 'int32'>\n",
      "/job:localhost/replica:0/task:0/device:CPU:0\n"
     ]
    }
   ],
   "source": [
    "# Each tf.Tensor has a shape and a datatype\n",
    "x = tf.matmul([[1]], [[2, 3]])\n",
    "\n",
    "print(x)\n",
    "print(x.shape)\n",
    "print(x.dtype)\n",
    "print(x.device)  # Gives the name of the device where the Tensor is hosted"
   ]
  },
  {
   "cell_type": "markdown",
   "metadata": {},
   "source": [
    "These tensors can be used be acceleratos (such as GPUs and TPUs) and are immutable\n",
    "Tensorflow operations automatically convert NumPy array to tensors and vice versa\n",
    "\n",
    "Tensors are explicitly converted to NumPy ndarrays using their .numpy() method. These conversions are typically \n",
    "cheap since the array and tf.Tensor share the underlying memory representation, if possible. However, sharing the \n",
    "underlying representation isn't always possible since the tf.Tensor may be hosted in GPU memory while NumPy arrays \n",
    "are always backed by host memory, and the conversion involves a copy from GPU to host memory.\n",
    "\n",
    "\n",
    "Refer to https://colab.research.google.com/github/tensorflow/docs/blob/master/site/en/tutorials/customization/basics.ipynb for usage of devices(GPUs, CPUs, TPUs) for execution, creating datasets from your data and applying transformations to it.\n",
    "\n"
   ]
  },
  {
   "cell_type": "code",
   "execution_count": 4,
   "metadata": {},
   "outputs": [],
   "source": [
    "# Keras API provides a way to define composition of computation layers (which are treated as objects)\n",
    "layer = tf.keras.layers.Dense(10)\n",
    "# Here the argument denotes the dimension of the output. The dimensions of the \n",
    "# can be inferred the first time the code is run or it can be specified\n",
    "# if the model is complex (or for better readability)\n",
    "\n",
    "layer = tf.keras.layers.Dense(10, input_shape=(None,5))\n",
    "\n",
    "# Here the None means that any dimension can be present"
   ]
  },
  {
   "cell_type": "code",
   "execution_count": 5,
   "metadata": {},
   "outputs": [
    {
     "data": {
      "text/plain": [
       "<tf.Tensor: shape=(4, 10), dtype=float32, numpy=\n",
       "array([[0., 0., 0., 0., 0., 0., 0., 0., 0., 0.],\n",
       "       [0., 0., 0., 0., 0., 0., 0., 0., 0., 0.],\n",
       "       [0., 0., 0., 0., 0., 0., 0., 0., 0., 0.],\n",
       "       [0., 0., 0., 0., 0., 0., 0., 0., 0., 0.]], dtype=float32)>"
      ]
     },
     "execution_count": 5,
     "metadata": {},
     "output_type": "execute_result"
    }
   ],
   "source": [
    "# Simply call a layer to use it\n",
    "layer(tf.zeros([4,5]))"
   ]
  },
  {
   "cell_type": "code",
   "execution_count": 6,
   "metadata": {},
   "outputs": [
    {
     "data": {
      "text/plain": [
       "[<tf.Variable 'dense_1/kernel:0' shape=(5, 10) dtype=float32, numpy=\n",
       " array([[ 0.00883865, -0.50983137,  0.37399775, -0.3899641 , -0.30502924,\n",
       "         -0.42187548,  0.10850126, -0.03228277, -0.3271194 , -0.30294174],\n",
       "        [ 0.33899587, -0.00369632,  0.04724449,  0.61663824,  0.19189924,\n",
       "          0.32556325, -0.4162503 , -0.29225788, -0.57006425, -0.4859227 ],\n",
       "        [-0.17266852, -0.10557002, -0.41254842, -0.560386  , -0.3299912 ,\n",
       "         -0.5113966 ,  0.08524972, -0.373415  , -0.2149665 ,  0.6065716 ],\n",
       "        [ 0.31679893, -0.14240181,  0.29828793, -0.04239887, -0.32909355,\n",
       "          0.50690156, -0.5499274 , -0.3822565 , -0.33659095, -0.04671735],\n",
       "        [ 0.5310922 , -0.55598325, -0.2470896 ,  0.26982856,  0.20577502,\n",
       "         -0.5185497 , -0.19254524, -0.254123  ,  0.59929687, -0.15297228]],\n",
       "       dtype=float32)>,\n",
       " <tf.Variable 'dense_1/bias:0' shape=(10,) dtype=float32, numpy=array([0., 0., 0., 0., 0., 0., 0., 0., 0., 0.], dtype=float32)>]"
      ]
     },
     "execution_count": 6,
     "metadata": {},
     "output_type": "execute_result"
    }
   ],
   "source": [
    "# Inspect the trainable weights and biases in a layer\n",
    "layer.variables  # or layer.trainable_variables\n",
    "\n",
    "# Also see layer.kernel and layer.bias"
   ]
  },
  {
   "cell_type": "markdown",
   "metadata": {},
   "source": [
    "# Create a model and visualize it"
   ]
  },
  {
   "cell_type": "code",
   "execution_count": 7,
   "metadata": {},
   "outputs": [
    {
     "data": {
      "text/plain": [
       "'2.1.0'"
      ]
     },
     "execution_count": 7,
     "metadata": {},
     "output_type": "execute_result"
    }
   ],
   "source": [
    "# Import keras and check Tf version\n",
    "from tensorflow import keras\n",
    "from tensorflow.keras import layers\n",
    "\n",
    "tf.__version__"
   ]
  },
  {
   "cell_type": "code",
   "execution_count": 8,
   "metadata": {},
   "outputs": [
    {
     "name": "stdout",
     "output_type": "stream",
     "text": [
      "Model: \"mnist_model\"\n",
      "_________________________________________________________________\n",
      "Layer (type)                 Output Shape              Param #   \n",
      "=================================================================\n",
      "input_1 (InputLayer)         [(None, 784)]             0         \n",
      "_________________________________________________________________\n",
      "dense_2 (Dense)              (None, 64)                50240     \n",
      "_________________________________________________________________\n",
      "dense_3 (Dense)              (None, 64)                4160      \n",
      "_________________________________________________________________\n",
      "dense_4 (Dense)              (None, 10)                650       \n",
      "=================================================================\n",
      "Total params: 55,050\n",
      "Trainable params: 55,050\n",
      "Non-trainable params: 0\n",
      "_________________________________________________________________\n"
     ]
    }
   ],
   "source": [
    "# Create a model with three layers and visualize it\n",
    "inputs = keras.Input(shape=(784,))  # An input layer with 784 features (for MNIST)\n",
    "dense = layers.Dense(64, activation=\"relu\")\n",
    "x = dense(inputs) # This is like drawing an arrow from the input to the layer that we created\n",
    "x = layers.Dense(64, activation=\"relu\")(x)\n",
    "outputs = layers.Dense(10)(x)\n",
    "model = keras.Model(inputs=inputs, outputs=outputs, name=\"mnist_model\")  # Here we compile our lauers into a model\n",
    "model.summary()"
   ]
  },
  {
   "cell_type": "code",
   "execution_count": 11,
   "metadata": {},
   "outputs": [],
   "source": [
    "# Can also plot the graph for the model\n",
    "# keras.utils.plot_model(model, \"my_model\")"
   ]
  },
  {
   "cell_type": "code",
   "execution_count": null,
   "metadata": {},
   "outputs": [],
   "source": []
  }
 ],
 "metadata": {
  "kernelspec": {
   "display_name": "Python 3",
   "language": "python",
   "name": "python3"
  },
  "language_info": {
   "codemirror_mode": {
    "name": "ipython",
    "version": 3
   },
   "file_extension": ".py",
   "mimetype": "text/x-python",
   "name": "python",
   "nbconvert_exporter": "python",
   "pygments_lexer": "ipython3",
   "version": "3.7.5"
  }
 },
 "nbformat": 4,
 "nbformat_minor": 2
}
